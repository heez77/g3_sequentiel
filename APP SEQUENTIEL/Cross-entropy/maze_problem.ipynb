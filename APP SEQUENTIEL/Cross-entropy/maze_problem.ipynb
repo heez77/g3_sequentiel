{
 "cells": [
  {
   "cell_type": "code",
   "execution_count": null,
   "metadata": {},
   "outputs": [],
   "source": [
    "from src.crossEntropyResearch import q_learning_cross_entropy\n",
    "from src.maze import Maze\n",
    "import numpy as np"
   ]
  },
  {
   "cell_type": "markdown",
   "metadata": {},
   "source": [
    "## Environment"
   ]
  },
  {
   "cell_type": "code",
   "execution_count": null,
   "metadata": {},
   "outputs": [],
   "source": [
    "maze = np.array([\n",
    "    [0, 1, 0, 0, 0, 0, 0, 0],\n",
    "    [0, 1, 0, 1, 0, 1, 0, 0],\n",
    "    [0, 0, 0, 1, 1, 0, 1, 0],\n",
    "    [0, 1, 0, 1, 0, 0, 0, 0],\n",
    "    [1, 0, 0, 1, 0, 1, 0, 0],\n",
    "    [0, 0, 0, 1, 0, 1, 1, 1],\n",
    "    [0, 1, 1, 0, 0, 0, 0, 0],\n",
    "    [0, 0, 0, 0, 0, 1, 0, 0]\n",
    "])\n",
    "\n",
    "env = Maze(maze, start_cell=(4, 1))"
   ]
  },
  {
   "cell_type": "markdown",
   "metadata": {},
   "source": [
    "## Training"
   ]
  },
  {
   "cell_type": "code",
   "execution_count": null,
   "metadata": {},
   "outputs": [],
   "source": [
    "sample, Q = q_learning_cross_entropy(env, nb_sample=20, max_seq_length=250)"
   ]
  }
 ],
 "metadata": {
  "kernelspec": {
   "display_name": "Python 3.10.6 ('antibot')",
   "language": "python",
   "name": "python3"
  },
  "language_info": {
   "codemirror_mode": {
    "name": "ipython",
    "version": 3
   },
   "file_extension": ".py",
   "mimetype": "text/x-python",
   "name": "python",
   "nbconvert_exporter": "python",
   "pygments_lexer": "ipython3",
   "version": "3.10.6"
  },
  "orig_nbformat": 4,
  "vscode": {
   "interpreter": {
    "hash": "9165e57c854cb6d79cae25d4ad6b2272a8b3956fb7217b245f54e49bd8cf5c51"
   }
  }
 },
 "nbformat": 4,
 "nbformat_minor": 2
}
